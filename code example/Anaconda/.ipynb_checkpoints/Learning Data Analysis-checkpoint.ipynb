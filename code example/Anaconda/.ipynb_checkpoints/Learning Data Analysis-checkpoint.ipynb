{
 "cells": [
  {
   "cell_type": "markdown",
   "metadata": {},
   "source": [
    "# Pandas 数据结构"
   ]
  },
  {
   "cell_type": "markdown",
   "metadata": {},
   "source": [
    "## Series 数据结构"
   ]
  },
  {
   "cell_type": "markdown",
   "metadata": {},
   "source": [
    "### Series"
   ]
  },
  {
   "cell_type": "code",
   "execution_count": 1,
   "metadata": {},
   "outputs": [],
   "source": [
    "import pandas as pd\n",
    "import numpy as np\n",
    "import matplotlib.pyplot as plt\n",
    "# -*- coding: utf-8 -*-"
   ]
  },
  {
   "cell_type": "code",
   "execution_count": 34,
   "metadata": {},
   "outputs": [
    {
     "name": "stdout",
     "output_type": "stream",
     "text": [
      "0    a\n",
      "1    b\n",
      "2    c\n",
      "3    d\n",
      "dtype: object\n",
      "a    1\n",
      "b    2\n",
      "c    3\n",
      "d    4\n",
      "dtype: int64\n",
      "RangeIndex(start=0, stop=4, step=1)\n",
      "['a' 'b' 'c' 'd']\n"
     ]
    }
   ],
   "source": [
    "s1 = pd.Series([\"a\", \"b\", \"c\", \"d\"]) #默认从0开始的数做数据标签\n",
    "s2 = pd.Series([\"a\", \"b\", \"c\", \"d\"], index = [1, 2, 3, 4]) #使用index参数来自定义索引\n",
    "print(s1)\n",
    "s3 = pd.Series({\"a\":1, \"b\":2, \"c\":3, \"d\":4}) #key是数据标签，value是数据值\n",
    "print(s3)\n",
    "print(s1.index)\n",
    "print(s1.values)"
   ]
  },
  {
   "cell_type": "markdown",
   "metadata": {},
   "source": [
    "### DataFrame"
   ]
  },
  {
   "cell_type": "code",
   "execution_count": 35,
   "metadata": {},
   "outputs": [
    {
     "name": "stdout",
     "output_type": "stream",
     "text": [
      "   0\n",
      "0  a\n",
      "1  b\n",
      "2  c\n",
      "3  d\n",
      "   0  1\n",
      "0  A  a\n",
      "1  B  b\n",
      "2  C  c\n",
      "3  D  d\n",
      "    小写 大写\n",
      "第一行  A  a\n",
      "第二行  B  b\n",
      "第三行  C  c\n",
      "第四行  D  d\n",
      "    小写 大写\n",
      "第一行  a  A\n",
      "第二行  b  B\n",
      "第三行  c  C\n",
      "第四行  d  D\n",
      "Index(['小写', '大写'], dtype='object')\n",
      "Index(['第一行', '第二行', '第三行', '第四行'], dtype='object')\n"
     ]
    }
   ],
   "source": [
    "df1 = pd.DataFrame([\"a\", \"b\", \"c\", \"d\"]) #从0开始的默认索引\n",
    "print(df1)\n",
    "df2 = pd.DataFrame([(\"A\", \"a\"),(\"B\", \"b\"), (\"C\", \"c\"),(\"D\", \"d\")])\n",
    "print(df2)\n",
    "df3 = pd.DataFrame([(\"A\", \"a\"),(\"B\", \"b\"), (\"C\", \"c\"),(\"D\", \"d\")], #设置columns参数自定义列索引，设置index参数自定义\n",
    "                  columns = [\"小写\", \"大写\"],\n",
    "                  index = [\"第一行\", \"第二行\", \"第三行\", \"第四行\"])\n",
    "print(df3)\n",
    "data = {\"小写\":[\"a\",\"b\",\"c\",\"d\"], \"大写\":[\"A\", \"B\", \"C\", \"D\"]} #直接以字典的形式传入DataFrame时，字典的key值就相当于列索引，\n",
    "#这个时候如果没有设行索引，行索引还是使用从0开始的默认索引，同样可以使用index参数自定义行索引\n",
    "df4 = pd.DataFrame(data, index=[\"第一行\",\"第二行\",\"第三行\",\"第四行\"])\n",
    "print(df4)\n",
    "print(df4.columns) #获取列索引\n",
    "print(df4.index) #获取行索引"
   ]
  },
  {
   "cell_type": "markdown",
   "metadata": {},
   "source": [
    "## 获取数据源"
   ]
  },
  {
   "cell_type": "code",
   "execution_count": 2,
   "metadata": {},
   "outputs": [],
   "source": [
    "#df = pd.read_excel(r\"C:\\Users\\liuyating\\Desktop\\test.xlsx\")，电脑中的文件路径默认使用\\，这时候需要在路径前面加一个r（转义符）避免\n",
    "#路径里的\\被转义。也可以不加r，但是需要把路径里面的所有的\\转换成/，这个规则在其他格式文件时也是一样的\n",
    "#如果是CSV(逗号分隔)(*.csv)格式的文件，那么在导入的时候就需要把编码格式更改为gbk，如果使用UTF-8就会报错\n",
    "df = pd.read_csv(\"/Users/liuyating/Desktop/资料/计算机网课/对比Excel,轻松学习Python数据分析数据集/train-pivot.csv\", encoding = \"gbk\")"
   ]
  },
  {
   "cell_type": "code",
   "execution_count": null,
   "metadata": {},
   "outputs": [],
   "source": []
  },
  {
   "cell_type": "code",
   "execution_count": 38,
   "metadata": {},
   "outputs": [
    {
     "name": "stdout",
     "output_type": "stream",
     "text": [
      "    用户ID 客户分类    区域 是否省会  7月销量  8月销量  9月销量\n",
      "0  59224   A类  一线城市    是     6    20     0\n",
      "1  55295   B类  三线城市    否    37    27    35\n",
      "2  46035   A类  二线城市    是     8     1     8\n",
      "(6, 7)\n",
      "<class 'pandas.core.frame.DataFrame'>\n",
      "RangeIndex: 6 entries, 0 to 5\n",
      "Data columns (total 7 columns):\n",
      " #   Column  Non-Null Count  Dtype \n",
      "---  ------  --------------  ----- \n",
      " 0   用户ID    6 non-null      int64 \n",
      " 1   客户分类    6 non-null      object\n",
      " 2   区域      6 non-null      object\n",
      " 3   是否省会    6 non-null      object\n",
      " 4   7月销量    6 non-null      int64 \n",
      " 5   8月销量    6 non-null      int64 \n",
      " 6   9月销量    6 non-null      int64 \n",
      "dtypes: int64(4), object(3)\n",
      "memory usage: 464.0+ bytes\n",
      "None\n"
     ]
    }
   ],
   "source": [
    "#df.columns = [\"\", \"\", \"\", \"\"] #添加列索引 \n",
    "#df.index = [\"\", \"\", \"\", \"\"] #添加行索引\n",
    "df.set_index(\"用户ID\") #重置索引时，可以传入多个列名\n",
    "df.reset_index(level=0, drop=False, inplace=False) #将层次化索引的第0级转化为columns，drop默认为False，不删除原索引，并加入新的columns，\n",
    "#inplace默认为False，用来指定是否修改原数据表\n",
    "df.rename(columns = {\"客户分类\":\"新客户分类\", \"区域\":\"所在的区域\"}, index = {0:\"第0行\", 1:\"第一行\", 2:\"第二行\"})\n",
    "print(df.head(3)) #只展示前三行\n",
    "print(df.shape) #不会把行索引和列索引计算在内\n",
    "print(df.info()) #整个表中所有列的数据类型\n",
    "print(d[\"订单编号\"].dtype) #查看订单编号这一列的数据类型\n",
    "df[\"\"].astype(\"float64\") #将唯一识别码从int类型转换为float类型\n",
    "print(df.describe()) #所有数值类型字段的分布值\n",
    "print(df.isnull()) #我们可以用isnull()方法来判断哪个值是缺失值，如果是缺失值则返回True\n",
    "print(df.dropna())#dropna方法默认删除含有缺失值的行，也就是只要某一行有缺失值就把这一行删除，返回删除后的数据\n",
    "print(df.dropna(how = \"all\"))#只删除那些全为空值的行，不全为空值的行就不会被删除\n",
    "print(df.fillna({\"性别\":\"男\",\"年龄\":30})) #对性别和年龄的缺失值填充\n",
    "print(df.drop_duplicates(subset=[\"客户姓名\",\"唯一识别码\"], keep=\"last\"))#按姓名和唯一识别码去重，参数keep默认值是first，即保留第一个值；也可以是last，保留最后一个值；还可以是False，即把重复值全部删除"
   ]
  },
  {
   "cell_type": "markdown",
   "metadata": {},
   "source": [
    "## 数据选择"
   ]
  },
  {
   "cell_type": "code",
   "execution_count": 10,
   "metadata": {},
   "outputs": [
    {
     "data": {
      "text/html": [
       "<div>\n",
       "<style scoped>\n",
       "    .dataframe tbody tr th:only-of-type {\n",
       "        vertical-align: middle;\n",
       "    }\n",
       "\n",
       "    .dataframe tbody tr th {\n",
       "        vertical-align: top;\n",
       "    }\n",
       "\n",
       "    .dataframe thead th {\n",
       "        text-align: right;\n",
       "    }\n",
       "</style>\n",
       "<table border=\"1\" class=\"dataframe\">\n",
       "  <thead>\n",
       "    <tr style=\"text-align: right;\">\n",
       "      <th></th>\n",
       "      <th>用户ID</th>\n",
       "      <th>客户分类</th>\n",
       "      <th>区域</th>\n",
       "      <th>是否省会</th>\n",
       "      <th>7月销量</th>\n",
       "      <th>8月销量</th>\n",
       "      <th>9月销量</th>\n",
       "    </tr>\n",
       "  </thead>\n",
       "  <tbody>\n",
       "    <tr>\n",
       "      <th>0</th>\n",
       "      <td>59224</td>\n",
       "      <td>A类</td>\n",
       "      <td>一线城市</td>\n",
       "      <td>是</td>\n",
       "      <td>6</td>\n",
       "      <td>20</td>\n",
       "      <td>0</td>\n",
       "    </tr>\n",
       "    <tr>\n",
       "      <th>1</th>\n",
       "      <td>55295</td>\n",
       "      <td>B类</td>\n",
       "      <td>三线城市</td>\n",
       "      <td>否</td>\n",
       "      <td>37</td>\n",
       "      <td>27</td>\n",
       "      <td>35</td>\n",
       "    </tr>\n",
       "  </tbody>\n",
       "</table>\n",
       "</div>"
      ],
      "text/plain": [
       "    用户ID 客户分类    区域 是否省会  7月销量  8月销量  9月销量\n",
       "0  59224   A类  一线城市    是     6    20     0\n",
       "1  55295   B类  三线城市    否    37    27    35"
      ]
     },
     "execution_count": 10,
     "metadata": {},
     "output_type": "execute_result"
    }
   ],
   "source": [
    "df[[\"订单编号\",\"客户姓名\"]] #普通索引，多个列名用1个list存起来\n",
    "df.loc[[0,1], [\"客户分类\",\"是否省会\"]] #行索引的名称+列索引的名称，选择第一行和第二行，第一列和第二列\n",
    "df.iloc[[0,1], [0,2]] #选择第一行和第二行，第一列，第二列和第三列\n",
    "df.iloc[0:3] #选择前3行\n",
    "df.iloc[:, 0:4] #切片索引，第一列至第三列\n",
    "df[df[\"是否省会\"]==\"是\"][[\"用户ID\",\"客户分类\"]] #省会城市的用户ID和客户分类\n",
    "df[(df[\"是否省会\"]==\"是\") & (df[\"7月销量\"]>5)] #省会城市中7月销量>5的记录"
   ]
  },
  {
   "cell_type": "markdown",
   "metadata": {},
   "source": [
    "## 数值操作"
   ]
  },
  {
   "cell_type": "code",
   "execution_count": 25,
   "metadata": {},
   "outputs": [
    {
     "data": {
      "text/plain": [
       "0    100\n",
       "1     37\n",
       "2      8\n",
       "3      7\n",
       "4      9\n",
       "5     42\n",
       "Name: 7月销量, dtype: int64"
      ]
     },
     "execution_count": 25,
     "metadata": {},
     "output_type": "execute_result"
    }
   ],
   "source": [
    "df[\"7月销量\"].replace(6, 100, inplace=False) #对\"7月销量\"这一列进行替换\n",
    "df[\"7月销量\"].replace([6, 37], 100, inplace=False) #对\"7月销量\"这一列进行替换\n",
    "df.replace({\"6\":\"10\", \"50\":\"37\"}) #多对多替换，用10替换6，用37替换50\n",
    "df.replace(np.NaN, 0) #对全表的缺失值进行替换，类似fillna()"
   ]
  },
  {
   "cell_type": "markdown",
   "metadata": {},
   "source": [
    "## 数值排序"
   ]
  },
  {
   "cell_type": "code",
   "execution_count": 6,
   "metadata": {},
   "outputs": [
    {
     "data": {
      "text/html": [
       "<div>\n",
       "<style scoped>\n",
       "    .dataframe tbody tr th:only-of-type {\n",
       "        vertical-align: middle;\n",
       "    }\n",
       "\n",
       "    .dataframe tbody tr th {\n",
       "        vertical-align: top;\n",
       "    }\n",
       "\n",
       "    .dataframe thead th {\n",
       "        text-align: right;\n",
       "    }\n",
       "</style>\n",
       "<table border=\"1\" class=\"dataframe\">\n",
       "  <thead>\n",
       "    <tr style=\"text-align: right;\">\n",
       "      <th></th>\n",
       "      <th>用户ID</th>\n",
       "      <th>客户分类</th>\n",
       "      <th>区域</th>\n",
       "      <th>是否省会</th>\n",
       "      <th>7月销量</th>\n",
       "      <th>8月销量</th>\n",
       "      <th>9月销量</th>\n",
       "    </tr>\n",
       "  </thead>\n",
       "  <tbody>\n",
       "    <tr>\n",
       "      <th>5</th>\n",
       "      <td>22557</td>\n",
       "      <td>A类</td>\n",
       "      <td>二线城市</td>\n",
       "      <td>是</td>\n",
       "      <td>42</td>\n",
       "      <td>20</td>\n",
       "      <td>55</td>\n",
       "    </tr>\n",
       "    <tr>\n",
       "      <th>1</th>\n",
       "      <td>55295</td>\n",
       "      <td>B类</td>\n",
       "      <td>三线城市</td>\n",
       "      <td>否</td>\n",
       "      <td>37</td>\n",
       "      <td>27</td>\n",
       "      <td>35</td>\n",
       "    </tr>\n",
       "    <tr>\n",
       "      <th>4</th>\n",
       "      <td>22179</td>\n",
       "      <td>B类</td>\n",
       "      <td>三线城市</td>\n",
       "      <td>否</td>\n",
       "      <td>9</td>\n",
       "      <td>12</td>\n",
       "      <td>4</td>\n",
       "    </tr>\n",
       "    <tr>\n",
       "      <th>2</th>\n",
       "      <td>46035</td>\n",
       "      <td>A类</td>\n",
       "      <td>二线城市</td>\n",
       "      <td>是</td>\n",
       "      <td>8</td>\n",
       "      <td>1</td>\n",
       "      <td>8</td>\n",
       "    </tr>\n",
       "    <tr>\n",
       "      <th>3</th>\n",
       "      <td>2459</td>\n",
       "      <td>C类</td>\n",
       "      <td>一线城市</td>\n",
       "      <td>是</td>\n",
       "      <td>7</td>\n",
       "      <td>8</td>\n",
       "      <td>14</td>\n",
       "    </tr>\n",
       "    <tr>\n",
       "      <th>0</th>\n",
       "      <td>59224</td>\n",
       "      <td>A类</td>\n",
       "      <td>一线城市</td>\n",
       "      <td>是</td>\n",
       "      <td>6</td>\n",
       "      <td>20</td>\n",
       "      <td>0</td>\n",
       "    </tr>\n",
       "  </tbody>\n",
       "</table>\n",
       "</div>"
      ],
      "text/plain": [
       "    用户ID 客户分类    区域 是否省会  7月销量  8月销量  9月销量\n",
       "5  22557   A类  二线城市    是    42    20    55\n",
       "1  55295   B类  三线城市    否    37    27    35\n",
       "4  22179   B类  三线城市    否     9    12     4\n",
       "2  46035   A类  二线城市    是     8     1     8\n",
       "3   2459   C类  一线城市    是     7     8    14\n",
       "0  59224   A类  一线城市    是     6    20     0"
      ]
     },
     "execution_count": 6,
     "metadata": {},
     "output_type": "execute_result"
    }
   ],
   "source": [
    "df.sort_values(by=[\"7月销量\", \"8月销量\"], ascending=[False, True], na_position=\"first\") #ascending参数默认值为True，表示升序排列\n",
    "#na_position默认参数值为\"last\"，表示将缺失值显示在最后\n",
    "df[\"7月销量\"].rank(method = \"first\", ascending=False)\n",
    "'''\n",
    "method    说明\n",
    "average    与excel中RANK.AVG函数的功能一样\n",
    "first    按值在所有的待排列数据中出现的先后数据排名\n",
    "min    与Excel中RANK.EQ函数的功能一样\n",
    "max    与min相反，取重复值对应的最大排名\n",
    "'''"
   ]
  },
  {
   "cell_type": "markdown",
   "metadata": {},
   "source": [
    "## 数值删除"
   ]
  },
  {
   "cell_type": "code",
   "execution_count": null,
   "metadata": {},
   "outputs": [],
   "source": [
    "df.drop([\"用户ID\", \"客户分类\"], axis=1) #axis=1表示列，axis=0表示行\n",
    "df.drop(df.columns[[4, 5]], axis=1)\n",
    "df.drop(df.index[[0, 1]], axis=0)\n",
    "df.drop(columns=[\"用户ID\", \"客户分类\"]) #将列名以列表的形式传给columns时，不需要axis参数\n",
    "df[df[\"8月销量\"]<30] #要删除8月销量大于等于30的行，我们并不直接删除这一部分，而是把它的相反部分取出来，即把8月销量大于30的行筛选出来作为新的数据源\n",
    "df[\"区域\"].unique() #获取非重复值"
   ]
  },
  {
   "cell_type": "markdown",
   "metadata": {},
   "source": [
    "## 数值查找"
   ]
  },
  {
   "cell_type": "code",
   "execution_count": null,
   "metadata": {},
   "outputs": [],
   "source": [
    "df[\"年龄\"].isin([31,32]) #针对某列查找\n",
    "df.isin([\"A2\", 31]) #针对全表查找"
   ]
  }
 ],
 "metadata": {
  "kernelspec": {
   "display_name": "Python 3",
   "language": "python",
   "name": "python3"
  },
  "language_info": {
   "codemirror_mode": {
    "name": "ipython",
    "version": 3
   },
   "file_extension": ".py",
   "mimetype": "text/x-python",
   "name": "python",
   "nbconvert_exporter": "python",
   "pygments_lexer": "ipython3",
   "version": "3.6.10"
  }
 },
 "nbformat": 4,
 "nbformat_minor": 4
}
